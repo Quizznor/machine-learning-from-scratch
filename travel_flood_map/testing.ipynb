{
 "cells": [
  {
   "cell_type": "code",
   "execution_count": 5,
   "metadata": {},
   "outputs": [],
   "source": [
    "from map import Map\n",
    "import osmnx\n",
    "\n",
    "from shapely.geometry import Point, Polygon, LineString\n",
    "import geopandas as gpd"
   ]
  },
  {
   "cell_type": "code",
   "execution_count": 2,
   "metadata": {},
   "outputs": [
    {
     "name": "stderr",
     "output_type": "stream",
     "text": [
      "/home/quizznor/Desktop/machine-learning-from-scratch/travel_flood_map/.venv/lib/python3.12/site-packages/osmnx/graph.py:191: FutureWarning: The expected order of coordinates in `bbox` will change in the v2.0.0 release to `(left, bottom, right, top)`.\n",
      "  G = graph_from_bbox(\n"
     ]
    }
   ],
   "source": [
    "from collections import namedtuple\n",
    "\n",
    "args = namedtuple('args', 'position distance type')\n",
    "\n",
    "test_args = args(['London'], 1000, 'walk')\n",
    "test_map = Map(test_args)\n",
    "\n",
    "# test_map.draw()"
   ]
  },
  {
   "cell_type": "code",
   "execution_count": 3,
   "metadata": {},
   "outputs": [],
   "source": [
    "test_routes = test_map.calculate_travel_times()"
   ]
  },
  {
   "cell_type": "code",
   "execution_count": null,
   "metadata": {},
   "outputs": [],
   "source": [
    "def make_iso_polys(G, edge_buff=25, node_buff=50, infill=False):\n",
    "    isochrone_polys = []\n",
    "    for trip_time in sorted(trip_times, reverse=True):\n",
    "        subgraph = nx.ego_graph(G, center_node, radius=trip_time, distance='time')\n",
    "\n",
    "        node_points = [Point((data['x'], data['y'])) for node, data in subgraph.nodes(data=True)]\n",
    "        nodes_gdf = gpd.GeoDataFrame({'id': subgraph.nodes()}, geometry=node_points)\n",
    "        nodes_gdf = nodes_gdf.set_index('id')\n",
    "\n",
    "        edge_lines = []\n",
    "        for n_fr, n_to in subgraph.edges():\n",
    "            f = nodes_gdf.loc[n_fr].geometry\n",
    "            t = nodes_gdf.loc[n_to].geometry\n",
    "            edge_lines.append(LineString([f,t]))\n",
    "\n",
    "        n = nodes_gdf.buffer(node_buff).geometry\n",
    "        e = gpd.GeoSeries(edge_lines).buffer(edge_buff).geometry\n",
    "        all_gs = list(n) + list(e)\n",
    "        new_iso = gpd.GeoSeries(all_gs).unary_union\n",
    "        \n",
    "        # If desired, try and \"fill in\" surrounded\n",
    "        # areas so that shapes will appear solid and blocks\n",
    "        # won't have white space inside of them\n",
    "        if infill:\n",
    "            new_iso = Polygon(new_iso.exterior)\n",
    "        isochrone_polys.append(new_iso)\n",
    "    return isochrone_polys"
   ]
  },
  {
   "cell_type": "markdown",
   "metadata": {},
   "source": [
    "# compare runtime for travel time calculation"
   ]
  },
  {
   "cell_type": "code",
   "execution_count": null,
   "metadata": {},
   "outputs": [],
   "source": [
    "%%timeit\n",
    "\n",
    "travel_times_for = {}\n",
    "for route in test_routes:\n",
    "\n",
    "    travel_time = 0\n",
    "    for i in range(len(route)-1):\n",
    "\n",
    "        edge = test_map.graph.get_edge_data(route[i], route[i+1])[0]\n",
    "        travel_time += edge[\"travel_time\"]\n",
    "\n",
    "    travel_times_for[route[-1]] = travel_time"
   ]
  },
  {
   "cell_type": "code",
   "execution_count": null,
   "metadata": {},
   "outputs": [],
   "source": [
    "%%timeit\n",
    "\n",
    "paths = [osmnx.routing.route_to_gdf(test_map.graph, route, weight=\"travel_time\") for route in test_routes]\n",
    "travel_times_summed = [path['travel_time'].sum() for path in paths]\n",
    "travel_times_gdf = {route[-1] : travel_time for route, travel_time in zip(test_routes, travel_times_summed)}\n"
   ]
  },
  {
   "cell_type": "code",
   "execution_count": null,
   "metadata": {},
   "outputs": [],
   "source": [
    "# compare \n",
    "\n",
    "for key in travel_times_gdf.keys():\n",
    "    print(key, travel_times_gdf[key], travel_times_for[key])"
   ]
  }
 ],
 "metadata": {
  "kernelspec": {
   "display_name": ".venv",
   "language": "python",
   "name": "python3"
  },
  "language_info": {
   "codemirror_mode": {
    "name": "ipython",
    "version": 3
   },
   "file_extension": ".py",
   "mimetype": "text/x-python",
   "name": "python",
   "nbconvert_exporter": "python",
   "pygments_lexer": "ipython3",
   "version": "3.12.4"
  }
 },
 "nbformat": 4,
 "nbformat_minor": 2
}
